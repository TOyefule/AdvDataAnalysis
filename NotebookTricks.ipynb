{
 "cells": [
  {
   "cell_type": "markdown",
   "metadata": {},
   "source": [
    "<img src=\"../src/packt-banner.png\" alt=\"\">"
   ]
  },
  {
   "cell_type": "markdown",
   "metadata": {},
   "source": [
    "# Lesson 1: Jupyter Fundamentals\n",
    "\n",
    "In this workbook you will find:\n",
    "- Useful Jupyter Notebook features\n",
    "- Introductions to the Python libraries we'll use\n",
    "- An exploratory data analysis"
   ]
  },
  {
   "cell_type": "markdown",
   "metadata": {},
   "source": [
    "---"
   ]
  },
  {
   "cell_type": "markdown",
   "metadata": {},
   "source": [
    "## Topic A: Basic functionality and features\n",
    "\n",
    "We include examples of useful notebook features such as getting help, using tab, and Jupyter's magic functions."
   ]
  },
  {
   "cell_type": "markdown",
   "metadata": {},
   "source": [
    "---\n",
    "### Subtopic C: Jupyter Features\n",
    "---\n",
    "#### Basic Keyboard Shortcuts\n",
    "- `Shift + Enter` to run cell\n",
    "- `Escape` to leave cell\n",
    "- `m` to change cell to Markdown (after pressing escape)\n",
    "- `y` to change cell to Code (after pressing escape)\n",
    "- Arrow keys move cells (after pressing escape)\n",
    "- `Enter` to enter cell"
   ]
  },
  {
   "cell_type": "markdown",
   "metadata": {},
   "source": [
    "---"
   ]
  },
  {
   "cell_type": "markdown",
   "metadata": {},
   "source": [
    "#### Getting Help\n",
    "- add question mark to end of object"
   ]
  },
  {
   "cell_type": "code",
   "execution_count": null,
   "metadata": {},
   "outputs": [],
   "source": [
    "# Get the numpy arange docstring\n",
    "import numpy as np\n",
    "np.arange?"
   ]
  },
  {
   "cell_type": "code",
   "execution_count": null,
   "metadata": {},
   "outputs": [],
   "source": [
    "# Get the python sort function docstring\n",
    "sorted?"
   ]
  },
  {
   "cell_type": "code",
   "execution_count": 1,
   "metadata": {},
   "outputs": [],
   "source": [
    "import pandas as pd\n",
    "pd."
   ]
  },
  {
   "cell_type": "code",
   "execution_count": 3,
   "metadata": {},
   "outputs": [],
   "source": [
    "pd.DataFrame?"
   ]
  },
  {
   "cell_type": "markdown",
   "metadata": {},
   "source": [
    "---"
   ]
  },
  {
   "cell_type": "markdown",
   "metadata": {},
   "source": [
    "#### Tab Completion\n",
    "\n",
    "Example of Jupyter tab completion include:\n",
    "- listing available modules on import   \n",
    "`import <tab>`   \n",
    "`from numpy import <tab>`\n",
    "- listing available modules after import         \n",
    "`np.<tab>`   \n",
    "- function completion    \n",
    "`np.ar<tab>`   \n",
    "`sor<tab>([2, 3, 1])`   \n",
    "- variable completion    \n",
    "`myvar_1 = 5`   \n",
    "`myvar_2 = 6`   \n",
    "`my<tab>`   \n",
    "- listing relative path directory contents   \n",
    "`../<tab>`   \n",
    "(then press enter on a folder and tab again to show its contents)"
   ]
  },
  {
   "cell_type": "code",
   "execution_count": null,
   "metadata": {},
   "outputs": [],
   "source": []
  },
  {
   "cell_type": "code",
   "execution_count": null,
   "metadata": {},
   "outputs": [],
   "source": []
  },
  {
   "cell_type": "code",
   "execution_count": null,
   "metadata": {},
   "outputs": [],
   "source": []
  },
  {
   "cell_type": "code",
   "execution_count": null,
   "metadata": {},
   "outputs": [],
   "source": []
  },
  {
   "cell_type": "markdown",
   "metadata": {},
   "source": [
    "---"
   ]
  },
  {
   "cell_type": "markdown",
   "metadata": {},
   "source": [
    "#### Jupyter Magic Functions\n",
    "List of the available magic commands:"
   ]
  },
  {
   "cell_type": "code",
   "execution_count": null,
   "metadata": {},
   "outputs": [],
   "source": [
    "%lsmagic"
   ]
  },
  {
   "cell_type": "markdown",
   "metadata": {},
   "source": [
    "---"
   ]
  },
  {
   "cell_type": "code",
   "execution_count": null,
   "metadata": {},
   "outputs": [],
   "source": [
    "# Display plots inline\n",
    "%matplotlib inline"
   ]
  },
  {
   "cell_type": "markdown",
   "metadata": {},
   "source": [
    "---\n",
    "Timers"
   ]
  },
  {
   "cell_type": "code",
   "execution_count": null,
   "metadata": {},
   "outputs": [],
   "source": [
    "a = [1, 2, 3, 4, 5] * int(1e5)"
   ]
  },
  {
   "cell_type": "code",
   "execution_count": null,
   "metadata": {},
   "outputs": [],
   "source": [
    "%%time\n",
    "# Get runtime for the entire cell\n",
    "\n",
    "for i in range(len(a)):\n",
    "    a[i] += 5"
   ]
  },
  {
   "cell_type": "code",
   "execution_count": null,
   "metadata": {},
   "outputs": [],
   "source": [
    "# Get runtime for one line\n",
    "%time a = [_a + 5 for _a in a]"
   ]
  },
  {
   "cell_type": "code",
   "execution_count": null,
   "metadata": {},
   "outputs": [],
   "source": [
    "# Average results of many runs\n",
    "%timeit set(a)"
   ]
  },
  {
   "cell_type": "markdown",
   "metadata": {},
   "source": [
    "---\n",
    "Using bash in the notebook"
   ]
  },
  {
   "cell_type": "code",
   "execution_count": 10,
   "metadata": {},
   "outputs": [
    {
     "name": "stdout",
     "output_type": "stream",
     "text": [
      "NNPredictionRegression.ipynb\n",
      "Untitled.ipynb\n",
      "Untitled1.ipynb\n",
      "david.xlsx\n",
      "davidAnalysis.ipynb\n",
      "dl_version.py\n",
      "gradanalysis.ipynb\n",
      "gradsurvey.csv\n",
      "inaweek\n",
      "lesson-1-workbook-Copy1.ipynb\n",
      "lesson-1-workbook.ipynb\n",
      "projects\n",
      "station_info.csv\n",
      "test-file.txt\n",
      "untitled.txt\n",
      "\n",
      "using bash from inside Jupyter!\n"
     ]
    }
   ],
   "source": [
    "%%bash\n",
    "\n",
    "echo \"using bash from inside Jupyter!\" > test-file.txt\n",
    "ls\n",
    "echo \"\"\n",
    "cat test-file.txt\n",
    "rm test-file.txt"
   ]
  },
  {
   "cell_type": "code",
   "execution_count": 11,
   "metadata": {},
   "outputs": [
    {
     "name": "stdout",
     "output_type": "stream",
     "text": [
      "NNPredictionRegression.ipynb  gradsurvey.csv\r\n",
      "Untitled.ipynb                \u001b[0m\u001b[01;34minaweek\u001b[0m/\r\n",
      "Untitled1.ipynb               lesson-1-workbook-Copy1.ipynb\r\n",
      "david.xlsx                    lesson-1-workbook.ipynb\r\n",
      "davidAnalysis.ipynb           \u001b[01;34mprojects\u001b[0m/\r\n",
      "dl_version.py                 station_info.csv\r\n",
      "gradanalysis.ipynb            untitled.txt\r\n"
     ]
    }
   ],
   "source": [
    "ls"
   ]
  },
  {
   "cell_type": "code",
   "execution_count": 12,
   "metadata": {},
   "outputs": [
    {
     "data": {
      "text/plain": [
       "'/home/jupyter-ajhenley'"
      ]
     },
     "execution_count": 12,
     "metadata": {},
     "output_type": "execute_result"
    }
   ],
   "source": [
    "pwd"
   ]
  },
  {
   "cell_type": "markdown",
   "metadata": {},
   "source": [
    "---\n",
    "External magic functions can be installed, e.g. ipython-sql"
   ]
  },
  {
   "cell_type": "code",
   "execution_count": null,
   "metadata": {},
   "outputs": [],
   "source": [
    "# Source: https://github.com/catherinedevlin/ipython-sql\n",
    "# do pip install ipython-sql in the terminal\n",
    "%load_ext sql"
   ]
  },
  {
   "cell_type": "code",
   "execution_count": null,
   "metadata": {},
   "outputs": [],
   "source": [
    "%%sql sqlite://\n",
    "\n",
    "SELECT *\n",
    "FROM (\n",
    "    SELECT 'Hello' as msg_1\n",
    ") A JOIN (\n",
    "    SELECT 'World!' as msg_2\n",
    ") B;"
   ]
  },
  {
   "cell_type": "markdown",
   "metadata": {},
   "source": [
    "---\n",
    "Document versions for reproducability and datestamp the notebook"
   ]
  },
  {
   "cell_type": "code",
   "execution_count": null,
   "metadata": {},
   "outputs": [],
   "source": [
    "# pip install version_information\n",
    "# https://github.com/jrjohansson/version_information\n",
    "#\n",
    "# alternate option: https://github.com/rasbt/watermark\n",
    "\n",
    "%load_ext version_information\n",
    "%version_information requests, numpy, pandas, matplotlib, seaborn, sklearn"
   ]
  },
  {
   "cell_type": "markdown",
   "metadata": {},
   "source": [
    "---\n",
    "### Subtopic D: Python Libraries\n",
    "---"
   ]
  },
  {
   "cell_type": "code",
   "execution_count": null,
   "metadata": {},
   "outputs": [],
   "source": [
    "# Common standard libraries\n",
    "\n",
    "import datetime\n",
    "import time\n",
    "import os"
   ]
  },
  {
   "cell_type": "code",
   "execution_count": null,
   "metadata": {},
   "outputs": [],
   "source": [
    "# Common external libraries\n",
    "\n",
    "import pandas as pd\n",
    "import numpy as np\n",
    "import sklearn # scikit-learn\n",
    "import requests\n",
    "from bs4 import BeautifulSoup"
   ]
  },
  {
   "cell_type": "code",
   "execution_count": null,
   "metadata": {},
   "outputs": [],
   "source": [
    "# Visualization libraries\n",
    "\n",
    "%matplotlib inline\n",
    "import matplotlib.pyplot as plt\n",
    "import seaborn as sns"
   ]
  },
  {
   "cell_type": "code",
   "execution_count": null,
   "metadata": {},
   "outputs": [],
   "source": [
    "# Setting plot appearance\n",
    "# See here for more options: https://matplotlib.org/users/customizing.html\n",
    "\n",
    "%config InlineBackend.figure_format='retina'\n",
    "sns.set() # Revert to matplotlib defaults\n",
    "plt.rcParams['figure.figsize'] = (9, 6)\n",
    "plt.rcParams['axes.labelpad'] = 10\n",
    "sns.set_style(\"darkgrid\")\n",
    "# sns.set_context(\"poster\", font_scale=1.0)"
   ]
  },
  {
   "cell_type": "code",
   "execution_count": null,
   "metadata": {},
   "outputs": [],
   "source": [
    "# Ignore warnings (don't display stderr)\n",
    "\n",
    "import warnings\n",
    "warnings.filterwarnings('ignore')"
   ]
  },
  {
   "cell_type": "markdown",
   "metadata": {},
   "source": [
    "---\n",
    "## Topic B: Our first Analysis: the Boston Housing Dataset   \n",
    "We explore the Boston housing dataset, which contains US census data concerning houses in various areas around the city of Boston.\n",
    "\n",
    "---\n",
    "### Subtopic A: Loading the data\n",
    "\n",
    "---"
   ]
  },
  {
   "cell_type": "code",
   "execution_count": null,
   "metadata": {},
   "outputs": [],
   "source": [
    "# What about the other datasets\n",
    "\n",
    "from sklearn import datasets\n",
    "boston = datasets.load_boston()"
   ]
  },
  {
   "cell_type": "code",
   "execution_count": null,
   "metadata": {},
   "outputs": [],
   "source": [
    "type(boston)"
   ]
  },
  {
   "cell_type": "code",
   "execution_count": null,
   "metadata": {},
   "outputs": [],
   "source": [
    "from sklearn.utils import Bunch\n",
    "Bunch?"
   ]
  },
  {
   "cell_type": "code",
   "execution_count": null,
   "metadata": {},
   "outputs": [],
   "source": [
    "# What fields are in the dictionary?\n",
    "boston.keys()"
   ]
  },
  {
   "cell_type": "code",
   "execution_count": null,
   "metadata": {},
   "outputs": [],
   "source": [
    "print(boston['DESCR'])"
   ]
  },
  {
   "cell_type": "code",
   "execution_count": null,
   "metadata": {},
   "outputs": [],
   "source": [
    "import pandas as pd\n",
    "pd.DataFrame?"
   ]
  },
  {
   "cell_type": "code",
   "execution_count": null,
   "metadata": {},
   "outputs": [],
   "source": [
    "# What does the data look like?\n",
    "boston['data']"
   ]
  },
  {
   "cell_type": "code",
   "execution_count": null,
   "metadata": {},
   "outputs": [],
   "source": [
    "boston['data'].shape"
   ]
  },
  {
   "cell_type": "code",
   "execution_count": null,
   "metadata": {},
   "outputs": [],
   "source": [
    "boston['feature_names']"
   ]
  },
  {
   "cell_type": "code",
   "execution_count": null,
   "metadata": {},
   "outputs": [],
   "source": [
    "# Load the data\n",
    "df = pd.DataFrame(data=boston['data'], columns=boston['feature_names'])"
   ]
  },
  {
   "cell_type": "code",
   "execution_count": null,
   "metadata": {},
   "outputs": [],
   "source": [
    "# Still need to add the target variable\n",
    "boston['target'].shape"
   ]
  },
  {
   "cell_type": "code",
   "execution_count": null,
   "metadata": {},
   "outputs": [],
   "source": [
    "df['MEDV'] = boston['target']"
   ]
  },
  {
   "cell_type": "code",
   "execution_count": null,
   "metadata": {},
   "outputs": [],
   "source": [
    "# Move the target variable to the front of the table\n",
    "y = df.MEDV.copy()\n",
    "del df['MEDV']\n",
    "df = pd.concat((y, df), axis=1)"
   ]
  },
  {
   "cell_type": "code",
   "execution_count": null,
   "metadata": {},
   "outputs": [],
   "source": [
    "df.head()"
   ]
  },
  {
   "cell_type": "code",
   "execution_count": null,
   "metadata": {},
   "outputs": [],
   "source": [
    "df.tail()"
   ]
  },
  {
   "cell_type": "code",
   "execution_count": null,
   "metadata": {},
   "outputs": [],
   "source": [
    "len(df)"
   ]
  },
  {
   "cell_type": "code",
   "execution_count": null,
   "metadata": {},
   "outputs": [],
   "source": [
    "df.dtypes"
   ]
  },
  {
   "cell_type": "code",
   "execution_count": null,
   "metadata": {},
   "outputs": [],
   "source": [
    "# Identify and NaNs\n",
    "df.isnull().sum()"
   ]
  },
  {
   "cell_type": "code",
   "execution_count": null,
   "metadata": {},
   "outputs": [],
   "source": [
    "# Removing some columns\n",
    "for col in ['ZN', 'NOX', 'RAD', 'PTRATIO', 'B']:\n",
    "    del df[col]"
   ]
  },
  {
   "cell_type": "markdown",
   "metadata": {},
   "source": [
    "---\n",
    "### Subtopic B: Data exploration\n",
    "---"
   ]
  },
  {
   "cell_type": "code",
   "execution_count": null,
   "metadata": {},
   "outputs": [],
   "source": [
    "df.describe().T"
   ]
  },
  {
   "cell_type": "code",
   "execution_count": null,
   "metadata": {},
   "outputs": [],
   "source": [
    "# Focus on these columns\n",
    "cols = ['RM', 'AGE', 'TAX', 'LSTAT', 'MEDV']"
   ]
  },
  {
   "cell_type": "code",
   "execution_count": null,
   "metadata": {},
   "outputs": [],
   "source": [
    "# Subset\n",
    "df[cols].head()"
   ]
  },
  {
   "cell_type": "code",
   "execution_count": null,
   "metadata": {},
   "outputs": [],
   "source": [
    "# The pairwise correlations\n",
    "df[cols].corr()"
   ]
  },
  {
   "cell_type": "code",
   "execution_count": null,
   "metadata": {},
   "outputs": [],
   "source": [
    "# Set up plotting environment\n",
    "\n",
    "# Visualization libraries\n",
    "import matplotlib.pyplot as plt\n",
    "%matplotlib inline\n",
    "import seaborn as sns\n",
    "\n",
    "# Setting plot appearance\n",
    "%config InlineBackend.figure_format='retina'\n",
    "sns.set() # Revert to matplotlib defaults\n",
    "plt.rcParams['figure.figsize'] = (9, 6)\n",
    "plt.rcParams['axes.labelpad'] = 10\n",
    "sns.set_style(\"darkgrid\")"
   ]
  },
  {
   "cell_type": "code",
   "execution_count": null,
   "metadata": {},
   "outputs": [],
   "source": [
    "# Pairwise correlation heatmap\n",
    "\n",
    "ax = sns.heatmap(df[cols].corr(),\n",
    "                 cmap=sns.cubehelix_palette(20, light=0.95, dark=0.15))\n",
    "ax.xaxis.tick_top() # move labels to the top\n",
    "\n",
    "plt.savefig('../figures/lesson-1-boston-housing-corr.png',\n",
    "            bbox_inches='tight', dpi=300)"
   ]
  },
  {
   "cell_type": "code",
   "execution_count": null,
   "metadata": {},
   "outputs": [],
   "source": [
    "sns.pairplot(df[cols],\n",
    "             plot_kws={'alpha': 0.6},\n",
    "             diag_kws={'bins': 30})\n",
    "\n",
    "plt.savefig('../figures/lesson-1-boston-housing-pairplot.png',\n",
    "            bbox_inches='tight', dpi=300)"
   ]
  },
  {
   "cell_type": "markdown",
   "metadata": {},
   "source": [
    "---\n",
    "### Subtopic C: Introduction to predictive analytics\n",
    "---"
   ]
  },
  {
   "cell_type": "code",
   "execution_count": null,
   "metadata": {},
   "outputs": [],
   "source": [
    "# Modeling MADV as a function of RM and LSTAT\n",
    "\n",
    "fig, ax = plt.subplots(1, 2)\n",
    "sns.regplot('RM', 'MEDV', df, ax=ax[0], scatter_kws={'alpha': 0.4})\n",
    "sns.regplot('LSTAT', 'MEDV', df, ax=ax[1], scatter_kws={'alpha': 0.4})\n",
    "plt.savefig('../figures/lesson-1-boston-housing-scatter.png',\n",
    "            bbox_inches='tight', dpi=300)"
   ]
  },
  {
   "cell_type": "code",
   "execution_count": null,
   "metadata": {},
   "outputs": [],
   "source": [
    "# Residual plots\n",
    "\n",
    "fig, ax = plt.subplots(1, 2)\n",
    "ax[0] = sns.residplot('RM', 'MEDV', df, ax=ax[0], scatter_kws={'alpha': 0.4})\n",
    "ax[0].set_ylabel('MDEV residuals $(y-\\hat{y})$')\n",
    "ax[1] = sns.residplot('LSTAT', 'MEDV', df, ax=ax[1], scatter_kws={'alpha': 0.4})\n",
    "ax[1].set_ylabel('')\n",
    "plt.savefig('../figures/lesson-1-boston-housing-residuals.png',\n",
    "            bbox_inches='tight', dpi=300)"
   ]
  },
  {
   "cell_type": "code",
   "execution_count": null,
   "metadata": {},
   "outputs": [],
   "source": [
    "# MSE of linear models\n",
    "\n",
    "from sklearn.linear_model import LinearRegression\n",
    "from sklearn.metrics import mean_squared_error\n",
    "\n",
    "def get_mse(df, feature, target='MEDV'):\n",
    "    # Get x, y to model\n",
    "    y = df[target].values\n",
    "    x = df[feature].values.reshape(-1,1)\n",
    "    print('{} ~ {}'.format(target, feature))\n",
    "    \n",
    "    # Build and fit the model\n",
    "    lm = LinearRegression()\n",
    "    lm.fit(x, y)\n",
    "    msg = 'model: y = {:.3f} + {:.3f}x'\\\n",
    "            .format(lm.intercept_, lm.coef_[0])\n",
    "    print(msg)\n",
    "    \n",
    "    # Predict and determine MSE\n",
    "    y_pred = lm.predict(x)\n",
    "    error = mean_squared_error(y, y_pred)\n",
    "    print('mse = {:.2f}'.format(error))\n",
    "    print()"
   ]
  },
  {
   "cell_type": "code",
   "execution_count": null,
   "metadata": {},
   "outputs": [],
   "source": [
    "get_mse(df, 'RM')\n",
    "get_mse(df, 'LSTAT')"
   ]
  },
  {
   "cell_type": "markdown",
   "metadata": {},
   "source": [
    "---\n",
    "#### Activity   \n",
    "Fit a polynomial regression model\n",
    "\n",
    "---\n",
    "_Note: the following code should be removed from the student version of the notebook and replaced with empty cells._"
   ]
  },
  {
   "cell_type": "code",
   "execution_count": null,
   "metadata": {},
   "outputs": [],
   "source": [
    "y = df['MEDV'].values\n",
    "x = df['LSTAT'].values.reshape(-1,1)\n",
    "print('x =')\n",
    "print(x[:3], '...etc')"
   ]
  },
  {
   "cell_type": "code",
   "execution_count": null,
   "metadata": {},
   "outputs": [],
   "source": [
    "from sklearn.preprocessing import PolynomialFeatures\n",
    "poly = PolynomialFeatures(degree=3)"
   ]
  },
  {
   "cell_type": "code",
   "execution_count": null,
   "metadata": {},
   "outputs": [],
   "source": [
    "x_poly = poly.fit_transform(x)\n",
    "print('x_poly =')\n",
    "print(x_poly[:3], '...etc')"
   ]
  },
  {
   "cell_type": "code",
   "execution_count": null,
   "metadata": {},
   "outputs": [],
   "source": [
    "from sklearn.linear_model import LinearRegression\n",
    "clf = LinearRegression()\n",
    "clf.fit(x_poly, y)\n",
    "x_0 = clf.intercept_ + clf.coef_[0] # intercept\n",
    "x_1, x_2, x_3 = clf.coef_[1:]       # other coefficients\n",
    "msg = 'model: y = {:.3f} + {:.3f}x + {:.3f}x^2 + {:.3f}x^3'\\\n",
    "        .format(x_0, x_1, x_2, x_3)\n",
    "print(msg)"
   ]
  },
  {
   "cell_type": "code",
   "execution_count": null,
   "metadata": {},
   "outputs": [],
   "source": [
    "y_pred = clf.predict(x_poly)\n",
    "resid_MEDV = y - y_pred\n",
    "print('residuals =')\n",
    "print(resid_MEDV[:10], '...etc')"
   ]
  },
  {
   "cell_type": "code",
   "execution_count": null,
   "metadata": {
    "scrolled": true
   },
   "outputs": [],
   "source": [
    "from sklearn.metrics import mean_squared_error\n",
    "error = mean_squared_error(y, y_pred)\n",
    "print('mse = {:.2f}'.format(error))"
   ]
  },
  {
   "cell_type": "code",
   "execution_count": null,
   "metadata": {},
   "outputs": [],
   "source": [
    "fig, ax = plt.subplots()\n",
    "\n",
    "# Plot the samples\n",
    "ax.scatter(x.flatten(), y, alpha=0.6)\n",
    "\n",
    "# Plot the polynomial model\n",
    "x_ = np.linspace(2, 38, 50).reshape(-1, 1)\n",
    "x_poly = poly.fit_transform(x_)\n",
    "y_ = clf.predict(x_poly)\n",
    "ax.plot(x_, y_, color='red', alpha=0.8)\n",
    "\n",
    "ax.set_xlabel('LSTAT'); ax.set_ylabel('MEDV')\n",
    "\n",
    "plt.savefig('../figures/lesson-1-boston-housing-poly.png',\n",
    "            bbox_inches='tight', dpi=300)"
   ]
  },
  {
   "cell_type": "code",
   "execution_count": null,
   "metadata": {},
   "outputs": [],
   "source": [
    "fig, ax = plt.subplots(figsize=(5, 7))\n",
    "ax.scatter(x, resid_MEDV, alpha=0.6)\n",
    "ax.set_xlabel('LSTAT')\n",
    "ax.set_ylabel('MEDV Residual $(y-\\hat{y})$')\n",
    "plt.axhline(0, color='black', ls='dotted')\n",
    "plt.savefig('../figures/lesson-1-boston-housing-poly-residuals.png',\n",
    "            bbox_inches='tight', dpi=300)"
   ]
  },
  {
   "cell_type": "markdown",
   "metadata": {},
   "source": [
    "---\n",
    "### Subtopic D: Building and exploring categorical features\n",
    "---\n",
    "#### Activity\n",
    "Creating categorical fields from continuous variables and making segmented visualizations\n",
    "\n",
    "---\n",
    "_Note: the following code should be removed from the student version of the notebook and replaced with empty cells._"
   ]
  },
  {
   "cell_type": "code",
   "execution_count": null,
   "metadata": {},
   "outputs": [],
   "source": [
    "# Plot cumulative distribution to find places to split data\n",
    "\n",
    "sns.distplot(df.AGE.values, bins=100, hist_kws={'cumulative': True}, kde_kws={'lw': 0})\n",
    "plt.xlabel('AGE')\n",
    "plt.ylabel('CDF')\n",
    "plt.axhline(0.33, color='red')\n",
    "plt.axhline(0.66, color='red')\n",
    "plt.xlim(0, df.AGE.max())\n",
    "plt.savefig('../figures/lesson-1-boston-housing-age-cdf.png',\n",
    "            bbox_inches='tight', dpi=300)"
   ]
  },
  {
   "cell_type": "code",
   "execution_count": null,
   "metadata": {},
   "outputs": [],
   "source": [
    "# Categorize AGE into 3 bins\n",
    "\n",
    "def get_age_category(x):\n",
    "    if x < 50:\n",
    "        return 'Relatively New'\n",
    "    elif 50 <= x < 85:\n",
    "        return 'Relatively Old'\n",
    "    else:\n",
    "        return 'Very Old'\n",
    "\n",
    "df['AGE_category'] = df.AGE.apply(get_age_category)"
   ]
  },
  {
   "cell_type": "code",
   "execution_count": null,
   "metadata": {},
   "outputs": [],
   "source": [
    "# Check the segmented counts\n",
    "df.groupby('AGE_category').size()"
   ]
  },
  {
   "cell_type": "code",
   "execution_count": null,
   "metadata": {},
   "outputs": [],
   "source": [
    "# How is MEDV distributed for each age category\n",
    "\n",
    "sns.violinplot(x='MEDV', y='AGE_category', data=df,\n",
    "               order=['Relatively New', 'Relatively Old', 'Very Old'])\n",
    "plt.xlim(0, 55)\n",
    "plt.savefig('../figures/lesson-1-boston-housing-age-medv-violin.png',\n",
    "            bbox_inches='tight', dpi=300)"
   ]
  },
  {
   "cell_type": "code",
   "execution_count": null,
   "metadata": {},
   "outputs": [],
   "source": [
    "# Plotting the individual points\n",
    "\n",
    "sns.violinplot(x='MEDV', y='AGE_category', data=df,\n",
    "               order=['Relatively New', 'Relatively Old', 'Very Old'],\n",
    "               inner='point')\n",
    "plt.xlim(0, 55)\n",
    "plt.savefig('../figures/lesson-1-boston-housing-age-medv-violin-points.png',\n",
    "            bbox_inches='tight', dpi=300)"
   ]
  },
  {
   "cell_type": "code",
   "execution_count": null,
   "metadata": {},
   "outputs": [],
   "source": [
    "# Color-segmented pair plot\n",
    "\n",
    "cols = ['RM', 'AGE', 'TAX', 'LSTAT', 'MEDV', 'AGE_category']\n",
    "sns.pairplot(df[cols], hue='AGE_category',\n",
    "             hue_order=['Relatively New', 'Relatively Old', 'Very Old'],\n",
    "             plot_kws={'alpha': 0.5}, diag_kws={'bins': 30})\n",
    "plt.savefig('../figures/lesson-1-boston-housing-age-pairplot.png',\n",
    "            bbox_inches='tight', dpi=300)"
   ]
  },
  {
   "cell_type": "code",
   "execution_count": null,
   "metadata": {},
   "outputs": [],
   "source": [
    "# Look at LSTAT by segment in more detail\n",
    "\n",
    "sns.violinplot(x='LSTAT', y='AGE_category', data=df,\n",
    "               order=['Relatively New', 'Relatively Old', 'Very Old'])\n",
    "plt.xlim(-5, 40)\n",
    "plt.savefig('../figures/lesson-1-boston-housing-lstat-violin.png',\n",
    "            bbox_inches='tight', dpi=300)"
   ]
  },
  {
   "cell_type": "code",
   "execution_count": null,
   "metadata": {},
   "outputs": [],
   "source": []
  }
 ],
 "metadata": {
  "anaconda-cloud": {},
  "kernelspec": {
   "display_name": "Python 3",
   "language": "python",
   "name": "python3"
  },
  "language_info": {
   "codemirror_mode": {
    "name": "ipython",
    "version": 3
   },
   "file_extension": ".py",
   "mimetype": "text/x-python",
   "name": "python",
   "nbconvert_exporter": "python",
   "pygments_lexer": "ipython3",
   "version": "3.6.8"
  }
 },
 "nbformat": 4,
 "nbformat_minor": 2
}
