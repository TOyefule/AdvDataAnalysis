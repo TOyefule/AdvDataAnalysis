{
 "cells": [
  {
   "cell_type": "markdown",
   "metadata": {},
   "source": [
    "# Get Data Using API - no key\n",
    "\n",
    "API stands for Application Programming Interface. On a basic level, it allows a user to \"talk\" to another server and request information. The API receives the request and responds back with the information."
   ]
  },
  {
   "cell_type": "code",
   "execution_count": 1,
   "metadata": {
    "collapsed": true
   },
   "outputs": [],
   "source": [
    "import requests  #similar to urllib, this library allows a computer to ping a website\n",
    "import json      #library to handle JSON formatted data"
   ]
  },
  {
   "cell_type": "markdown",
   "metadata": {},
   "source": [
    "### The Walking Dead Episode Data via TVMaze API\n",
    "\n",
    "In this example, we do not need an API key (a method of authentication) in order to request data. So think of this method as being similar to web scraping but from the back end."
   ]
  },
  {
   "cell_type": "code",
   "execution_count": 2,
   "metadata": {
    "collapsed": true
   },
   "outputs": [],
   "source": [
    "#URL to TVMaze API\n",
    "url = r\"http://api.tvmaze.com/singlesearch/shows?q=the-walking-dead&embed=episodes\""
   ]
  },
  {
   "cell_type": "code",
   "execution_count": 3,
   "metadata": {},
   "outputs": [
    {
     "data": {
      "text/plain": [
       "<Response [200]>"
      ]
     },
     "execution_count": 3,
     "metadata": {},
     "output_type": "execute_result"
    }
   ],
   "source": [
    "#the get function checks to make sure that the website/server is responding back\n",
    "#200 means that we're good\n",
    "#https://www.restapitutorial.com/httpstatuscodes.html\n",
    "resp = requests.get(url)\n",
    "resp"
   ]
  },
  {
   "cell_type": "code",
   "execution_count": 21,
   "metadata": {},
   "outputs": [],
   "source": [
    "#send a request to the website to return back text data from the API\n",
    "#returns data as JSON string\n",
    "str_data = resp.text\n"
   ]
  },
  {
   "cell_type": "code",
   "execution_count": 22,
   "metadata": {},
   "outputs": [],
   "source": [
    "#loads function reversed dictionary order\n",
    "#dictionary objects are unordered in general\n",
    "WDdata = json.loads(str_data)\n"
   ]
  },
  {
   "cell_type": "code",
   "execution_count": 6,
   "metadata": {},
   "outputs": [
    {
     "data": {
      "text/plain": [
       "dict"
      ]
     },
     "execution_count": 6,
     "metadata": {},
     "output_type": "execute_result"
    }
   ],
   "source": [
    "#verify that JSON object is one big dictionary\n",
    "type(WDdata)"
   ]
  },
  {
   "cell_type": "code",
   "execution_count": 7,
   "metadata": {},
   "outputs": [
    {
     "data": {
      "text/plain": [
       "dict_keys(['id', 'url', 'name', 'type', 'language', 'genres', 'status', 'runtime', 'premiered', 'officialSite', 'schedule', 'rating', 'weight', 'network', 'webChannel', 'externals', 'image', 'summary', 'updated', '_links', '_embedded'])"
      ]
     },
     "execution_count": 7,
     "metadata": {},
     "output_type": "execute_result"
    }
   ],
   "source": [
    "#first level keys in JSON object\n",
    "WDdata.keys()"
   ]
  },
  {
   "cell_type": "code",
   "execution_count": 23,
   "metadata": {},
   "outputs": [],
   "source": [
    "#dumps function reverses order again\n",
    "#can currently see correct order of objects\n",
    "#print(json.dumps(WDdata,indent=4))"
   ]
  },
  {
   "cell_type": "code",
   "execution_count": 9,
   "metadata": {},
   "outputs": [
    {
     "data": {
      "text/plain": [
       "{'_links': {'self': {'href': 'http://api.tvmaze.com/episodes/4095'}},\n",
       " 'airdate': '2010-10-31',\n",
       " 'airstamp': '2010-11-01T02:00:00+00:00',\n",
       " 'airtime': '22:00',\n",
       " 'id': 4095,\n",
       " 'image': {'medium': 'http://static.tvmaze.com/uploads/images/medium_landscape/0/2104.jpg',\n",
       "  'original': 'http://static.tvmaze.com/uploads/images/original_untouched/0/2104.jpg'},\n",
       " 'name': 'Days Gone Bye',\n",
       " 'number': 1,\n",
       " 'runtime': 60,\n",
       " 'season': 1,\n",
       " 'summary': '<p>Rick searches for his family after emerging from a coma into a world terrorized by the walking dead. Morgan and Duane, whom he meets along the way, help teach Rick the new rules for survival.</p>',\n",
       " 'url': 'http://www.tvmaze.com/episodes/4095/the-walking-dead-1x01-days-gone-bye'}"
      ]
     },
     "execution_count": 9,
     "metadata": {},
     "output_type": "execute_result"
    }
   ],
   "source": [
    "#a single episode\n",
    "#dict['key']['key'][index]\n",
    "#dictionary name, dictionary key, dictionary key, then list index\n",
    "WDdata['_embedded']['episodes'][0]"
   ]
  },
  {
   "cell_type": "code",
   "execution_count": 10,
   "metadata": {},
   "outputs": [
    {
     "data": {
      "text/plain": [
       "dict_keys(['id', 'url', 'name', 'season', 'number', 'airdate', 'airtime', 'airstamp', 'runtime', 'image', 'summary', '_links'])"
      ]
     },
     "execution_count": 10,
     "metadata": {},
     "output_type": "execute_result"
    }
   ],
   "source": [
    "#verify which keys we can get information from per episode\n",
    "WDdata['_embedded']['episodes'][0].keys()"
   ]
  },
  {
   "cell_type": "code",
   "execution_count": 11,
   "metadata": {
    "collapsed": true
   },
   "outputs": [],
   "source": [
    "#set list of episodes to variable\n",
    "#will cycle (iterate) through the list to get value of keys in episodes\n",
    "episodes = WDdata['_embedded']['episodes']"
   ]
  },
  {
   "cell_type": "code",
   "execution_count": 12,
   "metadata": {
    "collapsed": true
   },
   "outputs": [],
   "source": [
    "#set empty lists to hold each feature's information\n",
    "\n",
    "epnamels = [] #episode name\n",
    "seasonls = [] #season number\n",
    "epnumls = []  #episode number\n",
    "datels = []   #airdate\n",
    "timels = []   #airtime\n",
    "runls = []    #runtime\n",
    "epsumls = []  #summary"
   ]
  },
  {
   "cell_type": "code",
   "execution_count": 13,
   "metadata": {
    "collapsed": true
   },
   "outputs": [],
   "source": [
    "#make a function to remove <p> and </p> tags from summary text\n",
    "\n",
    "def cleanText(text):\n",
    "    import re\n",
    "    \n",
    "    clean = re.compile('<.*?>') #regular expression that looks for any pattern in a string that has <>\n",
    "    return re.sub(clean, '', text)"
   ]
  },
  {
   "cell_type": "code",
   "execution_count": 14,
   "metadata": {},
   "outputs": [
    {
     "data": {
      "text/plain": [
       "'Rick searches for his family after emerging from a coma into a world terrorized by the walking dead. Morgan and Duane, whom he meets along the way, help teach Rick the new rules for survival.'"
      ]
     },
     "execution_count": 14,
     "metadata": {},
     "output_type": "execute_result"
    }
   ],
   "source": [
    "#test cleanText function\n",
    "teststr = WDdata['_embedded']['episodes'][0]['summary']\n",
    "\n",
    "cleanText(teststr)"
   ]
  },
  {
   "cell_type": "code",
   "execution_count": 15,
   "metadata": {
    "collapsed": true
   },
   "outputs": [],
   "source": [
    "#fill lists with data\n",
    "\n",
    "for episode in episodes:\n",
    "    \n",
    "    epnamels.append(episode['name'])\n",
    "    seasonls.append(episode['season'])\n",
    "    epnumls.append(episode['number'])\n",
    "    datels.append(episode['airdate'])\n",
    "    timels.append(episode['airtime'])\n",
    "    runls.append(episode['runtime'])\n",
    "    \n",
    "    #some episodes do not have a summary in them; causes error when appending to list\n",
    "    #will assign a value of None to append to list if episode summary raises error\n",
    "    try:\n",
    "        text = cleanText(episode['summary'])\n",
    "    except:\n",
    "        text = None\n",
    "        \n",
    "    epsumls.append(text)"
   ]
  },
  {
   "cell_type": "code",
   "execution_count": 16,
   "metadata": {},
   "outputs": [
    {
     "data": {
      "text/plain": [
       "['Rick searches for his family after emerging from a coma into a world terrorized by the walking dead. Morgan and Duane, whom he meets along the way, help teach Rick the new rules for survival.',\n",
       " 'Rick unknowingly causes a group of survivors to be trapped by walkers. The group dynamic devolves from accusations to violence, as Rick must confront an enemy far more dangerous than the undead.',\n",
       " \"Rick makes a decision to go back to Atlanta to retrieve the bag of guns and save a man's life. Lori and Shane must deal with the surprising return of someone they thought was dead.\",\n",
       " \"Rick's mission to Atlanta is jeopardized when things go awry. Jim becomes unhinged in camp.\",\n",
       " 'Rick leads the group to the CDC after the attack. Jim must make a terrible life and death decision']"
      ]
     },
     "execution_count": 16,
     "metadata": {},
     "output_type": "execute_result"
    }
   ],
   "source": [
    "#cleanText function worked\n",
    "epsumls[:5]"
   ]
  },
  {
   "cell_type": "code",
   "execution_count": 18,
   "metadata": {},
   "outputs": [
    {
     "name": "stdout",
     "output_type": "stream",
     "text": [
      "127\n",
      "127\n",
      "127\n",
      "127\n",
      "127\n",
      "127\n",
      "127\n"
     ]
    }
   ],
   "source": [
    "#verify that each list has same number of items\n",
    "print(len(epnamels))\n",
    "print(len(seasonls))\n",
    "print(len(epnumls))\n",
    "print(len(datels))\n",
    "print(len(timels))\n",
    "print(len(runls))\n",
    "print(len(epsumls))"
   ]
  },
  {
   "cell_type": "code",
   "execution_count": 19,
   "metadata": {
    "collapsed": true
   },
   "outputs": [],
   "source": [
    "#zip all lists together and make one big list of lists\n",
    "TWDlist = list(zip(epnamels, seasonls, epnumls, datels, timels, runls, epsumls))\n",
    "\n",
    "colnames = ['title', 'season', 'number', 'airdate', 'airtime', 'runtime', 'summary']"
   ]
  },
  {
   "cell_type": "code",
   "execution_count": 20,
   "metadata": {},
   "outputs": [
    {
     "data": {
      "text/html": [
       "<div>\n",
       "<style>\n",
       "    .dataframe thead tr:only-child th {\n",
       "        text-align: right;\n",
       "    }\n",
       "\n",
       "    .dataframe thead th {\n",
       "        text-align: left;\n",
       "    }\n",
       "\n",
       "    .dataframe tbody tr th {\n",
       "        vertical-align: top;\n",
       "    }\n",
       "</style>\n",
       "<table border=\"1\" class=\"dataframe\">\n",
       "  <thead>\n",
       "    <tr style=\"text-align: right;\">\n",
       "      <th></th>\n",
       "      <th>title</th>\n",
       "      <th>season</th>\n",
       "      <th>number</th>\n",
       "      <th>airdate</th>\n",
       "      <th>airtime</th>\n",
       "      <th>runtime</th>\n",
       "      <th>summary</th>\n",
       "    </tr>\n",
       "  </thead>\n",
       "  <tbody>\n",
       "    <tr>\n",
       "      <th>0</th>\n",
       "      <td>Days Gone Bye</td>\n",
       "      <td>1</td>\n",
       "      <td>1</td>\n",
       "      <td>2010-10-31</td>\n",
       "      <td>22:00</td>\n",
       "      <td>60</td>\n",
       "      <td>Rick searches for his family after emerging fr...</td>\n",
       "    </tr>\n",
       "    <tr>\n",
       "      <th>1</th>\n",
       "      <td>Guts</td>\n",
       "      <td>1</td>\n",
       "      <td>2</td>\n",
       "      <td>2010-11-07</td>\n",
       "      <td>22:00</td>\n",
       "      <td>60</td>\n",
       "      <td>Rick unknowingly causes a group of survivors t...</td>\n",
       "    </tr>\n",
       "    <tr>\n",
       "      <th>2</th>\n",
       "      <td>Tell It to the Frogs</td>\n",
       "      <td>1</td>\n",
       "      <td>3</td>\n",
       "      <td>2010-11-14</td>\n",
       "      <td>22:00</td>\n",
       "      <td>60</td>\n",
       "      <td>Rick makes a decision to go back to Atlanta to...</td>\n",
       "    </tr>\n",
       "    <tr>\n",
       "      <th>3</th>\n",
       "      <td>Vatos</td>\n",
       "      <td>1</td>\n",
       "      <td>4</td>\n",
       "      <td>2010-11-21</td>\n",
       "      <td>22:00</td>\n",
       "      <td>60</td>\n",
       "      <td>Rick's mission to Atlanta is jeopardized when ...</td>\n",
       "    </tr>\n",
       "    <tr>\n",
       "      <th>4</th>\n",
       "      <td>Wildfire</td>\n",
       "      <td>1</td>\n",
       "      <td>5</td>\n",
       "      <td>2010-11-28</td>\n",
       "      <td>22:00</td>\n",
       "      <td>60</td>\n",
       "      <td>Rick leads the group to the CDC after the atta...</td>\n",
       "    </tr>\n",
       "  </tbody>\n",
       "</table>\n",
       "</div>"
      ],
      "text/plain": [
       "                  title  season  number     airdate airtime  runtime  \\\n",
       "0         Days Gone Bye       1       1  2010-10-31   22:00       60   \n",
       "1                  Guts       1       2  2010-11-07   22:00       60   \n",
       "2  Tell It to the Frogs       1       3  2010-11-14   22:00       60   \n",
       "3                 Vatos       1       4  2010-11-21   22:00       60   \n",
       "4              Wildfire       1       5  2010-11-28   22:00       60   \n",
       "\n",
       "                                             summary  \n",
       "0  Rick searches for his family after emerging fr...  \n",
       "1  Rick unknowingly causes a group of survivors t...  \n",
       "2  Rick makes a decision to go back to Atlanta to...  \n",
       "3  Rick's mission to Atlanta is jeopardized when ...  \n",
       "4  Rick leads the group to the CDC after the atta...  "
      ]
     },
     "execution_count": 20,
     "metadata": {},
     "output_type": "execute_result"
    }
   ],
   "source": [
    "#make list into a dataframe\n",
    "\n",
    "import pandas as pd\n",
    "\n",
    "df = pd.DataFrame(TWDlist, columns=colnames)\n",
    "\n",
    "df.head()"
   ]
  },
  {
   "cell_type": "code",
   "execution_count": null,
   "metadata": {
    "collapsed": true
   },
   "outputs": [],
   "source": []
  }
 ],
 "metadata": {
  "kernelspec": {
   "display_name": "Python 3",
   "language": "python",
   "name": "python3"
  },
  "language_info": {
   "codemirror_mode": {
    "name": "ipython",
    "version": 3
   },
   "file_extension": ".py",
   "mimetype": "text/x-python",
   "name": "python",
   "nbconvert_exporter": "python",
   "pygments_lexer": "ipython3",
   "version": "3.6.3"
  }
 },
 "nbformat": 4,
 "nbformat_minor": 2
}
