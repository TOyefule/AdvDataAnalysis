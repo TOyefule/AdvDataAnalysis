{
 "cells": [
  {
   "cell_type": "markdown",
   "metadata": {},
   "source": [
    "# More Python"
   ]
  },
  {
   "cell_type": "markdown",
   "metadata": {},
   "source": [
    "## Dictionaries\n",
    "\n",
    "Similar to lists, dictionaries are a container type to store values. Instead of referencing values by their positions, values are called by their key name. "
   ]
  },
  {
   "cell_type": "code",
   "execution_count": 1,
   "metadata": {},
   "outputs": [
    {
     "name": "stdout",
     "output_type": "stream",
     "text": [
      "dog\n"
     ]
    }
   ],
   "source": [
    "#dictionaries use curly brackets\n",
    "\n",
    "pets = {'Goku': 'dog',\n",
    "        'Mika': 'dog',\n",
    "        'Brunson': 'cat',\n",
    "        'Lucas': 'cat',\n",
    "        'Genki': 'fish'}\n",
    "\n",
    "print(pets['Mika'])"
   ]
  },
  {
   "cell_type": "code",
   "execution_count": 2,
   "metadata": {},
   "outputs": [
    {
     "name": "stdout",
     "output_type": "stream",
     "text": [
      "{'Goku': 'dog', 'Mika': 'dog', 'Brunson': 'cat', 'Lucas': 'cat', 'Genki': 'fish', 'Tiny': 'dog'}\n"
     ]
    }
   ],
   "source": [
    "#add new values to a dictionary\n",
    "\n",
    "pets['Tiny'] = 'dog'\n",
    "print(pets)"
   ]
  },
  {
   "cell_type": "code",
   "execution_count": 3,
   "metadata": {},
   "outputs": [
    {
     "name": "stdout",
     "output_type": "stream",
     "text": [
      "Goku is a dog\n",
      "Mika is a dog\n",
      "Brunson is a cat\n",
      "Lucas is a cat\n",
      "Genki is a fish\n",
      "Tiny is a dog\n"
     ]
    }
   ],
   "source": [
    "#iterating over a dictionary\n",
    "\n",
    "for name, type in pets.items(): #items functions gets key,value pair in dictionary\n",
    "    print(name + \" is a \" + type)"
   ]
  },
  {
   "cell_type": "code",
   "execution_count": 4,
   "metadata": {},
   "outputs": [
    {
     "data": {
      "text/plain": [
       "dict_keys(['Goku', 'Mika', 'Brunson', 'Lucas', 'Genki', 'Tiny'])"
      ]
     },
     "execution_count": 4,
     "metadata": {},
     "output_type": "execute_result"
    }
   ],
   "source": [
    "#list of keys\n",
    "pets.keys()"
   ]
  },
  {
   "cell_type": "code",
   "execution_count": 5,
   "metadata": {},
   "outputs": [
    {
     "data": {
      "text/plain": [
       "dict_values(['dog', 'dog', 'cat', 'cat', 'fish', 'dog'])"
      ]
     },
     "execution_count": 5,
     "metadata": {},
     "output_type": "execute_result"
    }
   ],
   "source": [
    "#list of values\n",
    "pets.values()"
   ]
  },
  {
   "cell_type": "code",
   "execution_count": 6,
   "metadata": {},
   "outputs": [
    {
     "name": "stdout",
     "output_type": "stream",
     "text": [
      "{'Goku': 'dog', 'Mika': 'dog', 'Brunson': 'cat', 'Genki': 'fish', 'Tiny': 'dog'}\n"
     ]
    }
   ],
   "source": [
    "#delete an item from the dictionary\n",
    "del pets['Lucas']\n",
    "\n",
    "print(pets)"
   ]
  },
  {
   "cell_type": "markdown",
   "metadata": {},
   "source": [
    "## String Manipulation"
   ]
  },
  {
   "cell_type": "code",
   "execution_count": 7,
   "metadata": {},
   "outputs": [
    {
     "name": "stdout",
     "output_type": "stream",
     "text": [
      "my name is kenisha\n",
      "MY NAME IS KENISHA\n"
     ]
    }
   ],
   "source": [
    "#change the case of the letters\n",
    "intro= \"My name is Kenisha\"\n",
    "\n",
    "print(intro.lower()) #lowercase\n",
    "print(intro.upper()) #uppercase"
   ]
  },
  {
   "cell_type": "code",
   "execution_count": 8,
   "metadata": {},
   "outputs": [
    {
     "data": {
      "text/plain": [
       "False"
      ]
     },
     "execution_count": 8,
     "metadata": {},
     "output_type": "execute_result"
    }
   ],
   "source": [
    "#check if string has all alphabetical characters\n",
    "#this returns false because it has a space (not a letter)\n",
    "intro.isalpha()"
   ]
  },
  {
   "cell_type": "code",
   "execution_count": 9,
   "metadata": {},
   "outputs": [
    {
     "data": {
      "text/plain": [
       "3"
      ]
     },
     "execution_count": 9,
     "metadata": {},
     "output_type": "execute_result"
    }
   ],
   "source": [
    "#can search for a string within a string\n",
    "#returns starting index position of string\n",
    "#returns -1 if string not found\n",
    "intro.find(\"name\")"
   ]
  },
  {
   "cell_type": "code",
   "execution_count": 10,
   "metadata": {},
   "outputs": [
    {
     "data": {
      "text/plain": [
       "False"
      ]
     },
     "execution_count": 10,
     "metadata": {},
     "output_type": "execute_result"
    }
   ],
   "source": [
    "#find if a string starts with another string\n",
    "#returns True or False\n",
    "intro.startswith(\"name\")"
   ]
  },
  {
   "cell_type": "code",
   "execution_count": 11,
   "metadata": {},
   "outputs": [
    {
     "data": {
      "text/plain": [
       "'My name is Bob'"
      ]
     },
     "execution_count": 11,
     "metadata": {},
     "output_type": "execute_result"
    }
   ],
   "source": [
    "#replace one string with another\n",
    "intro.replace(\"Kenisha\", \"Bob\")"
   ]
  },
  {
   "cell_type": "code",
   "execution_count": 12,
   "metadata": {},
   "outputs": [
    {
     "data": {
      "text/plain": [
       "['My', 'name', 'is', 'Kenisha']"
      ]
     },
     "execution_count": 12,
     "metadata": {},
     "output_type": "execute_result"
    }
   ],
   "source": [
    "#split a string into smaller strings by a given character\n",
    "#example splits string by space\n",
    "intro.split(\" \")"
   ]
  },
  {
   "cell_type": "code",
   "execution_count": 13,
   "metadata": {},
   "outputs": [
    {
     "name": "stdout",
     "output_type": "stream",
     "text": [
      "   hello world\n",
      "hello world    \n",
      "hello world\n"
     ]
    }
   ],
   "source": [
    "extra = \"   hello world    \"\n",
    "\n",
    "print(extra.rstrip()) #remove whitespace on right side\n",
    "print(extra.lstrip()) #removes whitespace on left side\n",
    "print(extra.strip())  #removes whitespace on both sides"
   ]
  }
 ],
 "metadata": {
  "kernelspec": {
   "display_name": "Python 3",
   "language": "python",
   "name": "python3"
  },
  "language_info": {
   "codemirror_mode": {
    "name": "ipython",
    "version": 3
   },
   "file_extension": ".py",
   "mimetype": "text/x-python",
   "name": "python",
   "nbconvert_exporter": "python",
   "pygments_lexer": "ipython3",
   "version": "3.6.3"
  }
 },
 "nbformat": 4,
 "nbformat_minor": 2
}
