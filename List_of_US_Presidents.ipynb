#Print the Title of US Presidents
US_Presidents.title



tr = 

start =[]
end =
name =
party =
vp =




print(len(Start))
print(len(end))
print(len(name))
print(len(party))
print(len(vp))
