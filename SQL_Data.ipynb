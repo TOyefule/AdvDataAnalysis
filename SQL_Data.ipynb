{
 "cells": [
  {
   "cell_type": "markdown",
   "metadata": {},
   "source": [
    "# Load Data from Database Using SQL"
   ]
  },
  {
   "cell_type": "code",
   "execution_count": null,
   "metadata": {},
   "outputs": [],
   "source": [
    "import pandas as pd\n",
    "\n",
    "from sqlalchemy import create_engine"
   ]
  },
  {
   "cell_type": "code",
   "execution_count": null,
   "metadata": {},
   "outputs": [],
   "source": [
    "# Connect to sqlite db\n",
    "db_file = r'datasets/gradedata.db'\n",
    "engine = create_engine(r\"sqlite:///{}\".format(db_file))"
   ]
  },
  {
   "cell_type": "code",
   "execution_count": null,
   "metadata": {},
   "outputs": [],
   "source": [
    "#find out what tables are in the database\n",
    "sql = \"SELECT name FROM sqlite_master WHERE type = 'table';\"\n",
    "\n",
    "table_names = pd.read_sql(sql, engine)\n",
    "table_names"
   ]
  },
  {
   "cell_type": "code",
   "execution_count": null,
   "metadata": {},
   "outputs": [],
   "source": [
    "#get all the rows from the \"test\" table in the database\n",
    "sql = \"SELECT * FROM test;\"\n",
    "sales_data_df = pd.read_sql(sql, engine)\n",
    "sales_data_df"
   ]
  },
  {
   "cell_type": "code",
   "execution_count": null,
   "metadata": {},
   "outputs": [],
   "source": [
    "#query with conditional\n",
    "sql = 'SELECT * FROM test WHERE Grades IN (76,77,78)'\n",
    "\n",
    "grades_df = pd.read_sql(sql, engine)\n",
    "grades_df"
   ]
  }
 ],
 "metadata": {
  "kernelspec": {
   "display_name": "Python 3",
   "language": "python",
   "name": "python3"
  },
  "language_info": {
   "codemirror_mode": {
    "name": "ipython",
    "version": 3
   },
   "file_extension": ".py",
   "mimetype": "text/x-python",
   "name": "python",
   "nbconvert_exporter": "python",
   "pygments_lexer": "ipython3",
   "version": "3.6.2"
  }
 },
 "nbformat": 4,
 "nbformat_minor": 2
}
